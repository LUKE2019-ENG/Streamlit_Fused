{
 "cells": [
  {
   "cell_type": "code",
   "execution_count": 3,
   "id": "e8718cf9-d9a8-4594-b704-c8f5049b23e1",
   "metadata": {
    "colab": {
     "base_uri": "https://localhost:8080/"
    },
    "id": "x1ZdZzYesyTy",
    "outputId": "5fc21449-e059-45c0-b987-cd5596e63755"
   },
   "outputs": [
    {
     "data": {
      "text/markdown": [
       "\n",
       "Please open this link to authenticate with Fused:\n",
       "\n",
       "* [https://dev-tjcykxcetrz6bps6.us.auth0.com/authorize?audience=fused-python-api&scope=openid+email+name+offline_access&response_type=code&client_id=CXiwKZQmmyo0rqXZY7pzBgfsF7AL2A9l&redirect_uri=https%3A%2F%2Fwww.fused.io%2Fnotebook_login_redirect&code_challenge_method=S256&code_challenge=DBWyRZ1UikBH6kRxPnBm7iRh4ku9Xg8zHV4_XvnIcWk](https://dev-tjcykxcetrz6bps6.us.auth0.com/authorize?audience=fused-python-api&scope=openid+email+name+offline_access&response_type=code&client_id=CXiwKZQmmyo0rqXZY7pzBgfsF7AL2A9l&redirect_uri=https%3A%2F%2Fwww.fused.io%2Fnotebook_login_redirect&code_challenge_method=S256&code_challenge=DBWyRZ1UikBH6kRxPnBm7iRh4ku9Xg8zHV4_XvnIcWk)\n",
       "\n",
       "Once you have logged in, that page will give you a code which you can paste into this notebook to finish logging in.\n"
      ],
      "text/plain": [
       "<IPython.core.display.Markdown object>"
      ]
     },
     "metadata": {},
     "output_type": "display_data"
    },
    {
     "ename": "HTTPError",
     "evalue": "403 Client Error: Forbidden for url: https://dev-tjcykxcetrz6bps6.us.auth0.com/oauth/token",
     "output_type": "error",
     "traceback": [
      "\u001b[0;31m---------------------------------------------------------------------------\u001b[0m",
      "\u001b[0;31mHTTPError\u001b[0m                                 Traceback (most recent call last)",
      "Cell \u001b[0;32mIn[3], line 5\u001b[0m\n\u001b[1;32m      1\u001b[0m \u001b[38;5;28;01mfrom\u001b[39;00m \u001b[38;5;21;01mfused\u001b[39;00m \u001b[38;5;28;01mimport\u001b[39;00m NotebookCredentials\n\u001b[1;32m      2\u001b[0m credentials \u001b[38;5;241m=\u001b[39m NotebookCredentials()\n\u001b[0;32m----> 5\u001b[0m \u001b[43mcredentials\u001b[49m\u001b[38;5;241;43m.\u001b[39;49m\u001b[43mfinalize\u001b[49m\u001b[43m(\u001b[49m\u001b[43mcode\u001b[49m\u001b[38;5;241;43m=\u001b[39;49m\u001b[38;5;124;43m\"\u001b[39;49m\u001b[38;5;124;43mDberP39uwgNXnzVeyZXGSBtF9rkxLKofIemcGhJ0UBiCJ\u001b[39;49m\u001b[38;5;124;43m\"\u001b[39;49m\u001b[43m)\u001b[49m\n",
      "File \u001b[0;32m~/miniconda3/lib/python3.9/site-packages/fused/api/credentials.py:87\u001b[0m, in \u001b[0;36mNotebookCredentials.finalize\u001b[0;34m(self, code)\u001b[0m\n\u001b[1;32m     75\u001b[0m token_data \u001b[38;5;241m=\u001b[39m {\n\u001b[1;32m     76\u001b[0m     \u001b[38;5;124m\"\u001b[39m\u001b[38;5;124mclient_id\u001b[39m\u001b[38;5;124m\"\u001b[39m: CLIENT_ID,\n\u001b[1;32m     77\u001b[0m     \u001b[38;5;124m\"\u001b[39m\u001b[38;5;124mgrant_type\u001b[39m\u001b[38;5;124m\"\u001b[39m: \u001b[38;5;124m\"\u001b[39m\u001b[38;5;124mauthorization_code\u001b[39m\u001b[38;5;124m\"\u001b[39m,\n\u001b[0;32m   (...)\u001b[0m\n\u001b[1;32m     82\u001b[0m     \u001b[38;5;124m\"\u001b[39m\u001b[38;5;124mcode_verifier\u001b[39m\u001b[38;5;124m\"\u001b[39m: \u001b[38;5;28mself\u001b[39m\u001b[38;5;241m.\u001b[39m_code_verifier,\n\u001b[1;32m     83\u001b[0m }\n\u001b[1;32m     84\u001b[0m token_response \u001b[38;5;241m=\u001b[39m requests\u001b[38;5;241m.\u001b[39mpost(\n\u001b[1;32m     85\u001b[0m     OAUTH_TOKEN_URL, json\u001b[38;5;241m=\u001b[39mtoken_data, timeout\u001b[38;5;241m=\u001b[39mOPTIONS\u001b[38;5;241m.\u001b[39mrequest_timeout\n\u001b[1;32m     86\u001b[0m )\n\u001b[0;32m---> 87\u001b[0m \u001b[43mtoken_response\u001b[49m\u001b[38;5;241;43m.\u001b[39;49m\u001b[43mraise_for_status\u001b[49m\u001b[43m(\u001b[49m\u001b[43m)\u001b[49m\n\u001b[1;32m     88\u001b[0m token_dict \u001b[38;5;241m=\u001b[39m token_response\u001b[38;5;241m.\u001b[39mjson()\n\u001b[1;32m     90\u001b[0m credentials \u001b[38;5;241m=\u001b[39m Credentials\u001b[38;5;241m.\u001b[39mfrom_token_response(token_dict)\n",
      "File \u001b[0;32m~/miniconda3/lib/python3.9/site-packages/requests/models.py:1021\u001b[0m, in \u001b[0;36mResponse.raise_for_status\u001b[0;34m(self)\u001b[0m\n\u001b[1;32m   1016\u001b[0m     http_error_msg \u001b[38;5;241m=\u001b[39m (\n\u001b[1;32m   1017\u001b[0m         \u001b[38;5;124mf\u001b[39m\u001b[38;5;124m\"\u001b[39m\u001b[38;5;132;01m{\u001b[39;00m\u001b[38;5;28mself\u001b[39m\u001b[38;5;241m.\u001b[39mstatus_code\u001b[38;5;132;01m}\u001b[39;00m\u001b[38;5;124m Server Error: \u001b[39m\u001b[38;5;132;01m{\u001b[39;00mreason\u001b[38;5;132;01m}\u001b[39;00m\u001b[38;5;124m for url: \u001b[39m\u001b[38;5;132;01m{\u001b[39;00m\u001b[38;5;28mself\u001b[39m\u001b[38;5;241m.\u001b[39murl\u001b[38;5;132;01m}\u001b[39;00m\u001b[38;5;124m\"\u001b[39m\n\u001b[1;32m   1018\u001b[0m     )\n\u001b[1;32m   1020\u001b[0m \u001b[38;5;28;01mif\u001b[39;00m http_error_msg:\n\u001b[0;32m-> 1021\u001b[0m     \u001b[38;5;28;01mraise\u001b[39;00m HTTPError(http_error_msg, response\u001b[38;5;241m=\u001b[39m\u001b[38;5;28mself\u001b[39m)\n",
      "\u001b[0;31mHTTPError\u001b[0m: 403 Client Error: Forbidden for url: https://dev-tjcykxcetrz6bps6.us.auth0.com/oauth/token"
     ]
    }
   ],
   "source": [
    "from fused import NotebookCredentials\n",
    "credentials = NotebookCredentials()\n"
   ]
  },
  {
   "cell_type": "code",
   "execution_count": 4,
   "id": "66d400b8-fec4-4490-bf22-0bb0fd84be4f",
   "metadata": {},
   "outputs": [
    {
     "data": {
      "text/markdown": [
       "You are now logged in to Fused. :rocket:"
      ],
      "text/plain": [
       "<IPython.core.display.Markdown object>"
      ]
     },
     "metadata": {},
     "output_type": "display_data"
    },
    {
     "data": {
      "text/plain": [
       "<fused.api.api.FusedAPI at 0x7f61da4c96a0>"
      ]
     },
     "execution_count": 4,
     "metadata": {},
     "output_type": "execute_result"
    }
   ],
   "source": [
    "credentials.finalize(code=\"erEUQt5v4GSLPoEx37mtW-1Hv0aGEx6cwdrYWWrSFjo2o\")"
   ]
  },
  {
   "cell_type": "code",
   "execution_count": 5,
   "id": "XyfY_MF0x66d",
   "metadata": {
    "colab": {
     "base_uri": "https://localhost:8080/",
     "height": 273,
     "referenced_widgets": [
      "ae42ab0f43b34d6eb9b408892742b770",
      "6bfe950978af4a08a492931781d5dcf1",
      "103a6dbb7a334244a9d4a3b5492eacee"
     ]
    },
    "id": "XyfY_MF0x66d",
    "outputId": "cde643a7-6c99-40e8-b1df-7d35032628ac"
   },
   "outputs": [
    {
     "data": {
      "text/html": [
       "<div>\n",
       "<style scoped>\n",
       "    .dataframe tbody tr th:only-of-type {\n",
       "        vertical-align: middle;\n",
       "    }\n",
       "\n",
       "    .dataframe tbody tr th {\n",
       "        vertical-align: top;\n",
       "    }\n",
       "\n",
       "    .dataframe thead th {\n",
       "        text-align: right;\n",
       "    }\n",
       "</style>\n",
       "<table border=\"1\" class=\"dataframe\">\n",
       "  <thead>\n",
       "    <tr style=\"text-align: right;\">\n",
       "      <th></th>\n",
       "      <th>lng</th>\n",
       "      <th>lat</th>\n",
       "      <th>cnt</th>\n",
       "      <th>geometry</th>\n",
       "      <th>fused_index</th>\n",
       "    </tr>\n",
       "  </thead>\n",
       "  <tbody>\n",
       "    <tr>\n",
       "      <th>0</th>\n",
       "      <td>-73.844333</td>\n",
       "      <td>40.721333</td>\n",
       "      <td>6026</td>\n",
       "      <td>POINT (-73.84433 40.72133)</td>\n",
       "      <td>0</td>\n",
       "    </tr>\n",
       "    <tr>\n",
       "      <th>1</th>\n",
       "      <td>-73.955667</td>\n",
       "      <td>40.772667</td>\n",
       "      <td>3634</td>\n",
       "      <td>POINT (-73.95567 40.77267)</td>\n",
       "      <td>1</td>\n",
       "    </tr>\n",
       "    <tr>\n",
       "      <th>2</th>\n",
       "      <td>-74.010333</td>\n",
       "      <td>40.720667</td>\n",
       "      <td>1875</td>\n",
       "      <td>POINT (-74.01033 40.72067)</td>\n",
       "      <td>2</td>\n",
       "    </tr>\n",
       "    <tr>\n",
       "      <th>3</th>\n",
       "      <td>-73.990333</td>\n",
       "      <td>40.745667</td>\n",
       "      <td>386</td>\n",
       "      <td>POINT (-73.99033 40.74567)</td>\n",
       "      <td>3</td>\n",
       "    </tr>\n",
       "    <tr>\n",
       "      <th>4</th>\n",
       "      <td>-73.992667</td>\n",
       "      <td>40.753333</td>\n",
       "      <td>1495</td>\n",
       "      <td>POINT (-73.99267 40.75333)</td>\n",
       "      <td>4</td>\n",
       "    </tr>\n",
       "    <tr>\n",
       "      <th>...</th>\n",
       "      <td>...</td>\n",
       "      <td>...</td>\n",
       "      <td>...</td>\n",
       "      <td>...</td>\n",
       "      <td>...</td>\n",
       "    </tr>\n",
       "    <tr>\n",
       "      <th>44847</th>\n",
       "      <td>-73.935333</td>\n",
       "      <td>40.757333</td>\n",
       "      <td>6</td>\n",
       "      <td>POINT (-73.93533 40.75733)</td>\n",
       "      <td>44847</td>\n",
       "    </tr>\n",
       "    <tr>\n",
       "      <th>44848</th>\n",
       "      <td>-73.929667</td>\n",
       "      <td>40.765000</td>\n",
       "      <td>7</td>\n",
       "      <td>POINT (-73.92967 40.76500)</td>\n",
       "      <td>44848</td>\n",
       "    </tr>\n",
       "    <tr>\n",
       "      <th>44849</th>\n",
       "      <td>-74.009667</td>\n",
       "      <td>40.730000</td>\n",
       "      <td>6</td>\n",
       "      <td>POINT (-74.00967 40.73000)</td>\n",
       "      <td>44849</td>\n",
       "    </tr>\n",
       "    <tr>\n",
       "      <th>44850</th>\n",
       "      <td>-73.864333</td>\n",
       "      <td>40.767000</td>\n",
       "      <td>6</td>\n",
       "      <td>POINT (-73.86433 40.76700)</td>\n",
       "      <td>44850</td>\n",
       "    </tr>\n",
       "    <tr>\n",
       "      <th>44851</th>\n",
       "      <td>-73.926333</td>\n",
       "      <td>40.866000</td>\n",
       "      <td>6</td>\n",
       "      <td>POINT (-73.92633 40.86600)</td>\n",
       "      <td>44851</td>\n",
       "    </tr>\n",
       "  </tbody>\n",
       "</table>\n",
       "<p>44852 rows × 5 columns</p>\n",
       "</div>"
      ],
      "text/plain": [
       "             lng        lat   cnt                    geometry  fused_index\n",
       "0     -73.844333  40.721333  6026  POINT (-73.84433 40.72133)            0\n",
       "1     -73.955667  40.772667  3634  POINT (-73.95567 40.77267)            1\n",
       "2     -74.010333  40.720667  1875  POINT (-74.01033 40.72067)            2\n",
       "3     -73.990333  40.745667   386  POINT (-73.99033 40.74567)            3\n",
       "4     -73.992667  40.753333  1495  POINT (-73.99267 40.75333)            4\n",
       "...          ...        ...   ...                         ...          ...\n",
       "44847 -73.935333  40.757333     6  POINT (-73.93533 40.75733)        44847\n",
       "44848 -73.929667  40.765000     7  POINT (-73.92967 40.76500)        44848\n",
       "44849 -74.009667  40.730000     6  POINT (-74.00967 40.73000)        44849\n",
       "44850 -73.864333  40.767000     6  POINT (-73.86433 40.76700)        44850\n",
       "44851 -73.926333  40.866000     6  POINT (-73.92633 40.86600)        44851\n",
       "\n",
       "[44852 rows x 5 columns]"
      ]
     },
     "execution_count": 5,
     "metadata": {},
     "output_type": "execute_result"
    }
   ],
   "source": [
    "udf = fused.load(\"https://github.com/fusedio/udfs/tree/main/public/DuckDB_NYC_Example\")\n",
    "gdf = fused.run(udf)\n",
    "gdf.head()\n",
    "gdf"
   ]
  },
  {
   "cell_type": "code",
   "execution_count": 6,
   "id": "ENgL8Usq4idt",
   "metadata": {
    "colab": {
     "base_uri": "https://localhost:8080/"
    },
    "id": "ENgL8Usq4idt",
    "outputId": "8ea1f5ac-2b56-41fc-8cd4-c875d0041d92"
   },
   "outputs": [
    {
     "name": "stdout",
     "output_type": "stream",
     "text": [
      "geometry\n"
     ]
    },
    {
     "name": "stderr",
     "output_type": "stream",
     "text": [
      "/home/kogzqwerty2798/miniconda3/lib/python3.9/site-packages/geopandas/geodataframe.py:1442: UserWarning: Geometry column does not contain geometry.\n",
      "  warnings.warn(\"Geometry column does not contain geometry.\")\n"
     ]
    }
   ],
   "source": [
    "import pandas as pd\n",
    "import pyarrow as pa\n",
    "\n",
    "# Check the 'geometry' column\n",
    "print(gdf['geometry'].dtype)\n",
    "\n",
    "# Convert 'geometry' column to a compatible data type if necessary\n",
    "gdf['geometry'] = gdf['geometry'].astype(str)\n",
    "\n",
    "# Retry serializing the DataFrame to an Arrow table\n",
    "table = pa.Table.from_pandas(gdf)\n"
   ]
  },
  {
   "cell_type": "code",
   "execution_count": 7,
   "id": "a0df26c2-d1b5-43be-b94b-0b7e2417c578",
   "metadata": {
    "colab": {
     "base_uri": "https://localhost:8080/"
    },
    "id": "a0df26c2-d1b5-43be-b94b-0b7e2417c578",
    "outputId": "4ddc51a9-ad57-437e-8f1b-cbc0b45d3dc4"
   },
   "outputs": [
    {
     "data": {
      "text/plain": [
       "DeltaGenerator()"
      ]
     },
     "execution_count": 7,
     "metadata": {},
     "output_type": "execute_result"
    }
   ],
   "source": [
    "import fused\n",
    "import streamlit as st\n",
    "\n",
    "\n",
    "st.title(\"🌎 DuckDB NYC\")\n",
    "\n",
    "st.dataframe(gdf)"
   ]
  },
  {
   "cell_type": "code",
   "execution_count": null,
   "id": "e733ba36-f231-4e90-a0c7-bf7aca0833db",
   "metadata": {},
   "outputs": [],
   "source": []
  }
 ],
 "metadata": {
  "colab": {
   "provenance": []
  },
  "kernelspec": {
   "display_name": "Python 3 (ipykernel)",
   "language": "python",
   "name": "python3"
  },
  "language_info": {
   "codemirror_mode": {
    "name": "ipython",
    "version": 3
   },
   "file_extension": ".py",
   "mimetype": "text/x-python",
   "name": "python",
   "nbconvert_exporter": "python",
   "pygments_lexer": "ipython3",
   "version": "3.9.19"
  },
  "widgets": {
   "application/vnd.jupyter.widget-state+json": {
    "103a6dbb7a334244a9d4a3b5492eacee": {
     "model_module": "@jupyter-widgets/controls",
     "model_module_version": "2.0.0",
     "model_name": "ProgressStyleModel",
     "state": {
      "_model_module": "@jupyter-widgets/controls",
      "_model_module_version": "2.0.0",
      "_model_name": "ProgressStyleModel",
      "_view_count": null,
      "_view_module": "@jupyter-widgets/base",
      "_view_module_version": "2.0.0",
      "_view_name": "StyleView",
      "bar_color": "black",
      "description_width": ""
     }
    },
    "6bfe950978af4a08a492931781d5dcf1": {
     "model_module": "@jupyter-widgets/base",
     "model_module_version": "2.0.0",
     "model_name": "LayoutModel",
     "state": {
      "_model_module": "@jupyter-widgets/base",
      "_model_module_version": "2.0.0",
      "_model_name": "LayoutModel",
      "_view_count": null,
      "_view_module": "@jupyter-widgets/base",
      "_view_module_version": "2.0.0",
      "_view_name": "LayoutView",
      "align_content": null,
      "align_items": null,
      "align_self": null,
      "border_bottom": null,
      "border_left": null,
      "border_right": null,
      "border_top": null,
      "bottom": null,
      "display": null,
      "flex": null,
      "flex_flow": null,
      "grid_area": null,
      "grid_auto_columns": null,
      "grid_auto_flow": null,
      "grid_auto_rows": null,
      "grid_column": null,
      "grid_gap": null,
      "grid_row": null,
      "grid_template_areas": null,
      "grid_template_columns": null,
      "grid_template_rows": null,
      "height": null,
      "justify_content": null,
      "justify_items": null,
      "left": null,
      "margin": null,
      "max_height": null,
      "max_width": null,
      "min_height": null,
      "min_width": null,
      "object_fit": null,
      "object_position": null,
      "order": null,
      "overflow": null,
      "padding": null,
      "right": null,
      "top": null,
      "visibility": null,
      "width": "auto"
     }
    },
    "ae42ab0f43b34d6eb9b408892742b770": {
     "model_module": "@jupyter-widgets/controls",
     "model_module_version": "2.0.0",
     "model_name": "FloatProgressModel",
     "state": {
      "_dom_classes": [],
      "_model_module": "@jupyter-widgets/controls",
      "_model_module_version": "2.0.0",
      "_model_name": "FloatProgressModel",
      "_view_count": null,
      "_view_module": "@jupyter-widgets/controls",
      "_view_module_version": "2.0.0",
      "_view_name": "ProgressView",
      "bar_style": "",
      "description": "",
      "description_allow_html": false,
      "layout": "IPY_MODEL_6bfe950978af4a08a492931781d5dcf1",
      "max": 100,
      "min": 0,
      "orientation": "horizontal",
      "style": "IPY_MODEL_103a6dbb7a334244a9d4a3b5492eacee",
      "tabbable": null,
      "tooltip": null,
      "value": 100
     }
    }
   }
  }
 },
 "nbformat": 4,
 "nbformat_minor": 5
}
